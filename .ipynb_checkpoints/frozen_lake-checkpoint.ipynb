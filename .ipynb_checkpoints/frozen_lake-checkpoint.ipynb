{
 "cells": [
  {
   "cell_type": "code",
   "execution_count": 33,
   "metadata": {},
   "outputs": [],
   "source": [
    "import numpy as np\n",
    "import gym\n",
    "import random as r"
   ]
  },
  {
   "cell_type": "code",
   "execution_count": 34,
   "metadata": {},
   "outputs": [],
   "source": [
    "# Create env\n",
    "env = gym.make(\"FrozenLake-v0\")"
   ]
  },
  {
   "cell_type": "code",
   "execution_count": 35,
   "metadata": {},
   "outputs": [
    {
     "name": "stdout",
     "output_type": "stream",
     "text": [
      "[[0. 0. 0. 0.]\n",
      " [0. 0. 0. 0.]\n",
      " [0. 0. 0. 0.]\n",
      " [0. 0. 0. 0.]\n",
      " [0. 0. 0. 0.]\n",
      " [0. 0. 0. 0.]\n",
      " [0. 0. 0. 0.]\n",
      " [0. 0. 0. 0.]\n",
      " [0. 0. 0. 0.]\n",
      " [0. 0. 0. 0.]\n",
      " [0. 0. 0. 0.]\n",
      " [0. 0. 0. 0.]\n",
      " [0. 0. 0. 0.]\n",
      " [0. 0. 0. 0.]\n",
      " [0. 0. 0. 0.]\n",
      " [0. 0. 0. 0.]]\n",
      "size: (16, 4)\n"
     ]
    }
   ],
   "source": [
    "# Create Q-table\n",
    "action_size = env.action_space.n #cols\n",
    "state_size = env.observation_space.n #rows\n",
    "\n",
    "qtable = np.zeros((state_size, action_size))\n",
    "print(qtable)\n",
    "print(\"size: {}\".format(qtable.shape))"
   ]
  },
  {
   "cell_type": "code",
   "execution_count": 44,
   "metadata": {},
   "outputs": [],
   "source": [
    "# Model params\n",
    "total_episodes = 20000 # num training runs\n",
    "learning_rate = 0.8 # step-size multiplier\n",
    "max_steps = 200 # max num steps in a training run\n",
    "gamma = 0.95 # discount for future rewards given last action\n",
    "\n",
    "# Explore params\n",
    "eps = 1.0 # exlore probability\n",
    "max_eps = 1.0 # starting explore probability\n",
    "min_eps = 0.01 # min explore probability (i.e. 0.99 prob to use Q-table)\n",
    "decay = 0.005 # discount for exploration vs. exploitation \n"
   ]
  },
  {
   "cell_type": "code",
   "execution_count": 45,
   "metadata": {},
   "outputs": [
    {
     "name": "stdout",
     "output_type": "stream",
     "text": [
      "0.01\n",
      "Score over time: 0.01625\n",
      "[[1.04957896e+00 1.04924743e+00 1.05042661e+00 1.05044916e+00]\n",
      " [4.94669854e-02 2.49422478e-01 2.51308112e-01 1.05044916e+00]\n",
      " [7.49403133e-01 1.03834732e+00 1.00654492e+00 1.05044916e+00]\n",
      " [1.00430335e+00 4.94307254e-02 4.94303389e-02 1.05044916e+00]\n",
      " [1.04247102e+00 7.35169443e-01 7.85147784e-01 2.51471972e-01]\n",
      " [0.00000000e+00 0.00000000e+00 0.00000000e+00 0.00000000e+00]\n",
      " [3.43218102e-03 7.63792524e-04 9.99978326e-01 3.67266053e-05]\n",
      " [0.00000000e+00 0.00000000e+00 0.00000000e+00 0.00000000e+00]\n",
      " [1.41142850e-01 2.19155230e-01 2.05658706e-01 1.01476726e+00]\n",
      " [4.68632302e-02 9.25995901e-01 4.68475533e-02 2.14050281e-01]\n",
      " [9.67256370e-01 5.63111052e-02 2.24530349e-02 4.33071151e-02]\n",
      " [0.00000000e+00 0.00000000e+00 0.00000000e+00 0.00000000e+00]\n",
      " [0.00000000e+00 0.00000000e+00 0.00000000e+00 0.00000000e+00]\n",
      " [3.90452702e-02 2.44807356e-01 9.20715060e-01 5.18679904e-02]\n",
      " [9.43216111e-01 1.02928913e+00 5.57545951e-01 6.51659298e-01]\n",
      " [0.00000000e+00 0.00000000e+00 0.00000000e+00 0.00000000e+00]]\n"
     ]
    }
   ],
   "source": [
    "# Track rewards\n",
    "rewards = []\n",
    "\n",
    "# Training loop\n",
    "for episode in range(total_episodes):\n",
    "    \n",
    "    state = env.reset()\n",
    "    step = 0\n",
    "    done = False\n",
    "    total_rewards = 0\n",
    "    \n",
    "    for step in range(max_steps):\n",
    "        \n",
    "        dont_explore = r.uniform(0, 1)\n",
    "        \n",
    "        if dont_explore > eps: # q table\n",
    "            action = np.argmax(qtable[state, :]) # from set of actions in state, take action w highest q val\n",
    "            \n",
    "        else: # random sample\n",
    "            action = env.action_space.sample()\n",
    "        \n",
    "        new_state, reward, done, info = env.step(action) # execute action\n",
    "        \n",
    "        # Q(s,a):= Q(s,a) + lr [R(s,a) + gamma * max Q(s',a') - Q(s,a)]\n",
    "        qtable[state, action] = qtable[state, action] + learning_rate * (reward + gamma * np.max(qtable[new_state, :] - qtable[state, action]))\n",
    "        # q_table[new_state, :] = q vals for all actions possible in new state resulting from action\n",
    "        \n",
    "        total_rewards += reward\n",
    "        \n",
    "        state = new_state\n",
    "        \n",
    "        if done:\n",
    "            break\n",
    "            \n",
    "    eps = min_eps + (max_eps - min_eps) * np.exp(-decay*episode) # increase chance of dont_explore (i.e. use q-table)\n",
    "    rewards.append(total_rewards)\n",
    "\n",
    "print(eps)\n",
    "\n",
    "print(\"Score over time: \"+ str(sum(rewards) / total_episodes))\n",
    "print(qtable)"
   ]
  },
  {
   "cell_type": "code",
   "execution_count": 46,
   "metadata": {},
   "outputs": [
    {
     "name": "stdout",
     "output_type": "stream",
     "text": [
      "****************************************************\n",
      "EPISODE  0\n",
      "  (Up)\n",
      "S\u001b[41mF\u001b[0mFF\n",
      "FHFH\n",
      "FFFH\n",
      "HFFG\n",
      "Num Steps: 99\n",
      "****************************************************\n",
      "EPISODE  1\n",
      "  (Up)\n",
      "S\u001b[41mF\u001b[0mFF\n",
      "FHFH\n",
      "FFFH\n",
      "HFFG\n",
      "Num Steps: 99\n",
      "****************************************************\n",
      "EPISODE  2\n",
      "  (Up)\n",
      "\u001b[41mS\u001b[0mFFF\n",
      "FHFH\n",
      "FFFH\n",
      "HFFG\n",
      "Num Steps: 99\n",
      "****************************************************\n",
      "EPISODE  3\n",
      "  (Up)\n",
      "S\u001b[41mF\u001b[0mFF\n",
      "FHFH\n",
      "FFFH\n",
      "HFFG\n",
      "Num Steps: 99\n",
      "****************************************************\n",
      "EPISODE  4\n",
      "  (Up)\n",
      "\u001b[41mS\u001b[0mFFF\n",
      "FHFH\n",
      "FFFH\n",
      "HFFG\n",
      "Num Steps: 99\n"
     ]
    }
   ],
   "source": [
    "# Play Frozen Lake\n",
    "env.reset()\n",
    "\n",
    "for episode in range(5):\n",
    "    state = env.reset()\n",
    "    step = 0 \n",
    "    done = False\n",
    "    \n",
    "    print(\"****************************************************\")\n",
    "    print(\"EPISODE \", episode)\n",
    "    \n",
    "    for step in range(max_steps):\n",
    "        \n",
    "        action = np.argmax(qtable[state, :]) # given state, take action with highest q val\n",
    "        \n",
    "        new_state, reward, done, info = env.step(action) # execute action\n",
    "        \n",
    "        if done:   \n",
    "            env.render()\n",
    "            print(\"Num Steps: {}\".format(step))\n",
    "            break\n",
    "        \n",
    "        state = new_state\n",
    "        \n"
   ]
  },
  {
   "cell_type": "code",
   "execution_count": null,
   "metadata": {},
   "outputs": [],
   "source": []
  },
  {
   "cell_type": "code",
   "execution_count": null,
   "metadata": {},
   "outputs": [],
   "source": []
  }
 ],
 "metadata": {
  "kernelspec": {
   "display_name": "Python 3",
   "language": "python",
   "name": "python3"
  },
  "language_info": {
   "codemirror_mode": {
    "name": "ipython",
    "version": 3
   },
   "file_extension": ".py",
   "mimetype": "text/x-python",
   "name": "python",
   "nbconvert_exporter": "python",
   "pygments_lexer": "ipython3",
   "version": "3.7.2"
  }
 },
 "nbformat": 4,
 "nbformat_minor": 2
}
